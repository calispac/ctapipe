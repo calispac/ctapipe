{
 "cells": [
  {
   "cell_type": "code",
   "execution_count": 2,
   "metadata": {
    "collapsed": true
   },
   "outputs": [],
   "source": [
    "from ctapipe.io import HDF5TableWriter\n",
    "from ctapipe.core import Container, Field\n",
    "import numpy as np"
   ]
  },
  {
   "cell_type": "code",
   "execution_count": 3,
   "metadata": {
    "collapsed": true
   },
   "outputs": [],
   "source": [
    "class VariousTypesContainer(Container):\n",
    "    \n",
    "    a_int = Field(int, 'int')\n",
    "    a_float = Field(float, 'float')\n",
    "    a_bool = Field(bool, 'bool')\n",
    "    a_np_int = Field(np.int, 'np.int')\n",
    "    a_np_float = Field(np.float, 'np.float')\n",
    "    a_np_bool = Field(np.bool, 'np.bool')"
   ]
  },
  {
   "cell_type": "code",
   "execution_count": null,
   "metadata": {
    "collapsed": true
   },
   "outputs": [],
   "source": [
    "def create_stream(n_event):\n",
    "    \n",
    "    data = VariousTypesContainer()\n",
    "    for i in range(n_event):\n",
    "        \n",
    "        data.a_int = int(i)\n",
    "        data.a_float = float(i)\n",
    "        data.a_bool = (i % 2) == 0\n",
    "        data.a_np_int = np.int(i)\n",
    "        data.a_np_float = np.float(i)\n",
    "        data.a_np_bool = np.bool((i % 2) == 0)\n",
    "        \n",
    "        yield data"
   ]
  },
  {
   "cell_type": "code",
   "execution_count": null,
   "metadata": {},
   "outputs": [],
   "source": [
    "for data in create_stream(2):\n",
    "        \n",
    "    for key, val in data.items():\n",
    "        \n",
    "        print('{}: {}, type : {}'.format(key, val, type(val)))"
   ]
  },
  {
   "cell_type": "markdown",
   "metadata": {},
   "source": [
    "# Writing the Data"
   ]
  },
  {
   "cell_type": "markdown",
   "metadata": {},
   "source": [
    "## This is not recommended"
   ]
  },
  {
   "cell_type": "code",
   "execution_count": null,
   "metadata": {
    "collapsed": true
   },
   "outputs": [],
   "source": [
    "h5_table = HDF5TableWriter('container.h5', group_name='data')\n",
    "\n",
    "for data in create_stream(10):\n",
    "    \n",
    "    h5_table.write('table', data)\n",
    "\n",
    "h5_table.close()"
   ]
  },
  {
   "cell_type": "markdown",
   "metadata": {},
   "source": [
    "In that case the file is not garenteed to close properly for instance if one does a mistake in the for loop. Let's just add a stupid mistake and see what happens."
   ]
  },
  {
   "cell_type": "code",
   "execution_count": null,
   "metadata": {},
   "outputs": [],
   "source": [
    "h5_table = HDF5TableWriter('container.h5', group_name='data')\n",
    "\n",
    "for data in create_stream(10):\n",
    "    \n",
    "    h5_table.write('table', data)\n",
    "    0/0\n",
    "\n",
    "h5_table.close()"
   ]
  },
  {
   "cell_type": "markdown",
   "metadata": {},
   "source": [
    "Now the file did not close properly. So let's try to correct the mistake and execute the code again."
   ]
  },
  {
   "cell_type": "code",
   "execution_count": null,
   "metadata": {},
   "outputs": [],
   "source": [
    "h5_table = HDF5TableWriter('container.h5', group_name='data')\n",
    "\n",
    "for data in create_stream(10):\n",
    "    \n",
    "    h5_table.write('table', data)\n",
    "\n",
    "h5_table.close()"
   ]
  },
  {
   "cell_type": "markdown",
   "metadata": {},
   "source": [
    "Ah it seems that the file did not close! Now I am stuck. Maybe I should restart the kernel? ahh no I don't want to loose everything. Can I just close it ?"
   ]
  },
  {
   "cell_type": "code",
   "execution_count": null,
   "metadata": {
    "collapsed": true
   },
   "outputs": [],
   "source": [
    "h5_table.close()"
   ]
  },
  {
   "cell_type": "markdown",
   "metadata": {},
   "source": [
    "It worked!"
   ]
  },
  {
   "cell_type": "markdown",
   "metadata": {},
   "source": [
    "## Better to use context management"
   ]
  },
  {
   "cell_type": "code",
   "execution_count": null,
   "metadata": {},
   "outputs": [],
   "source": [
    "with HDF5TableWriter('container.h5', group_name='data') as h5_table:\n",
    "        \n",
    "    for data in create_stream(10):\n",
    "    \n",
    "        h5_table.write('table', data)\n",
    "print('Done')"
   ]
  },
  {
   "cell_type": "markdown",
   "metadata": {},
   "source": [
    "Now let me do the same mistake"
   ]
  },
  {
   "cell_type": "code",
   "execution_count": null,
   "metadata": {},
   "outputs": [],
   "source": [
    "with HDF5TableWriter('container.h5', group_name='data') as h5_table:\n",
    "    \n",
    "    for data in create_stream(10):\n",
    "        \n",
    "        h5_table.write('table', data)\n",
    "        0 / 0\n",
    "print('Done')"
   ]
  },
  {
   "cell_type": "markdown",
   "metadata": {},
   "source": [
    "Let's fix it again..."
   ]
  },
  {
   "cell_type": "code",
   "execution_count": null,
   "metadata": {},
   "outputs": [],
   "source": [
    "with HDF5TableWriter('container.h5', group_name='data') as h5_table:\n",
    "        \n",
    "    for data in create_stream(10):\n",
    "    \n",
    "        h5_table.write('table', data)\n",
    "        \n",
    "print('Done')"
   ]
  },
  {
   "cell_type": "markdown",
   "metadata": {},
   "source": [
    "Ok perfect my file closed automatically in this case!"
   ]
  },
  {
   "cell_type": "code",
   "execution_count": null,
   "metadata": {},
   "outputs": [],
   "source": [
    "!ls container.h5"
   ]
  },
  {
   "cell_type": "markdown",
   "metadata": {},
   "source": [
    "# Appending new Containers"
   ]
  },
  {
   "cell_type": "markdown",
   "metadata": {},
   "source": [
    "To append some new containers we need to set the writing in append mode by using: 'mode=a'. But let's now first look at what happens if we don't."
   ]
  },
  {
   "cell_type": "code",
   "execution_count": null,
   "metadata": {},
   "outputs": [],
   "source": [
    "for i in range(2):\n",
    "\n",
    "    with HDF5TableWriter('container.h5', mode='w', group_name='data_{}'.format(i)) as h5_table:\n",
    "    \n",
    "        for data in create_stream(10):\n",
    "    \n",
    "            h5_table.write('table', data)\n",
    "\n",
    "        print(h5_table._h5file)"
   ]
  },
  {
   "cell_type": "code",
   "execution_count": null,
   "metadata": {},
   "outputs": [],
   "source": [
    "!rm container.h5"
   ]
  },
  {
   "cell_type": "markdown",
   "metadata": {},
   "source": [
    "Ok so the writer destroyed the content of the file each time it opens the file. Now let's try to append some data group to it! (using mode='a')"
   ]
  },
  {
   "cell_type": "code",
   "execution_count": null,
   "metadata": {},
   "outputs": [],
   "source": [
    "for i in range(2):\n",
    "\n",
    "    with HDF5TableWriter('container.h5', mode='a', group_name='data_{}'.format(i)) as h5_table:\n",
    "    \n",
    "        for data in create_stream(10):\n",
    "    \n",
    "            h5_table.write('table', data)\n",
    "\n",
    "        print(h5_table._h5file)"
   ]
  },
  {
   "cell_type": "markdown",
   "metadata": {},
   "source": [
    "So we can append some data groups. As long as the data group_name does not already exists. Let's try to overwrite the data group : data_1"
   ]
  },
  {
   "cell_type": "code",
   "execution_count": null,
   "metadata": {},
   "outputs": [],
   "source": [
    "with HDF5TableWriter('container.h5', mode='a', group_name='data_1') as h5_table:\n",
    "    \n",
    "    for data in create_stream(10):\n",
    "    \n",
    "        h5_table.write('table', data)"
   ]
  },
  {
   "cell_type": "markdown",
   "metadata": {},
   "source": [
    "Good ! I cannot overwrite my data."
   ]
  },
  {
   "cell_type": "code",
   "execution_count": null,
   "metadata": {},
   "outputs": [],
   "source": [
    "print(bool(h5_table._h5file.isopen))"
   ]
  },
  {
   "cell_type": "markdown",
   "metadata": {},
   "source": [
    "# Reading the Data"
   ]
  },
  {
   "cell_type": "code",
   "execution_count": 7,
   "metadata": {},
   "outputs": [
    {
     "name": "stdout",
     "output_type": "stream",
     "text": [
      "reading mode r\n",
      "/data_0/table\n",
      "{'a_bool': True, 'a_np_bool': True, 'a_float': 0.0, 'a_np_float': 0.0, 'a_np_int': 0, 'a_int': 0}\n",
      "{'a_bool': False, 'a_np_bool': False, 'a_float': 1.0, 'a_np_float': 1.0, 'a_np_int': 1, 'a_int': 1}\n",
      "{'a_bool': True, 'a_np_bool': True, 'a_float': 2.0, 'a_np_float': 2.0, 'a_np_int': 2, 'a_int': 2}\n",
      "{'a_bool': False, 'a_np_bool': False, 'a_float': 3.0, 'a_np_float': 3.0, 'a_np_int': 3, 'a_int': 3}\n",
      "{'a_bool': True, 'a_np_bool': True, 'a_float': 4.0, 'a_np_float': 4.0, 'a_np_int': 4, 'a_int': 4}\n",
      "{'a_bool': False, 'a_np_bool': False, 'a_float': 5.0, 'a_np_float': 5.0, 'a_np_int': 5, 'a_int': 5}\n",
      "{'a_bool': True, 'a_np_bool': True, 'a_float': 6.0, 'a_np_float': 6.0, 'a_np_int': 6, 'a_int': 6}\n",
      "{'a_bool': False, 'a_np_bool': False, 'a_float': 7.0, 'a_np_float': 7.0, 'a_np_int': 7, 'a_int': 7}\n",
      "{'a_bool': True, 'a_np_bool': True, 'a_float': 8.0, 'a_np_float': 8.0, 'a_np_int': 8, 'a_int': 8}\n",
      "{'a_bool': False, 'a_np_bool': False, 'a_float': 9.0, 'a_np_float': 9.0, 'a_np_int': 9, 'a_int': 9}\n",
      "/data_1/table\n",
      "{'a_bool': True, 'a_np_bool': True, 'a_float': 0.0, 'a_np_float': 0.0, 'a_np_int': 0, 'a_int': 0}\n",
      "{'a_bool': False, 'a_np_bool': False, 'a_float': 1.0, 'a_np_float': 1.0, 'a_np_int': 1, 'a_int': 1}\n",
      "{'a_bool': True, 'a_np_bool': True, 'a_float': 2.0, 'a_np_float': 2.0, 'a_np_int': 2, 'a_int': 2}\n",
      "{'a_bool': False, 'a_np_bool': False, 'a_float': 3.0, 'a_np_float': 3.0, 'a_np_int': 3, 'a_int': 3}\n",
      "{'a_bool': True, 'a_np_bool': True, 'a_float': 4.0, 'a_np_float': 4.0, 'a_np_int': 4, 'a_int': 4}\n",
      "{'a_bool': False, 'a_np_bool': False, 'a_float': 5.0, 'a_np_float': 5.0, 'a_np_int': 5, 'a_int': 5}\n",
      "{'a_bool': True, 'a_np_bool': True, 'a_float': 6.0, 'a_np_float': 6.0, 'a_np_int': 6, 'a_int': 6}\n",
      "{'a_bool': False, 'a_np_bool': False, 'a_float': 7.0, 'a_np_float': 7.0, 'a_np_int': 7, 'a_int': 7}\n",
      "{'a_bool': True, 'a_np_bool': True, 'a_float': 8.0, 'a_np_float': 8.0, 'a_np_int': 8, 'a_int': 8}\n",
      "{'a_bool': False, 'a_np_bool': False, 'a_float': 9.0, 'a_np_float': 9.0, 'a_np_int': 9, 'a_int': 9}\n",
      "reading mode r+\n",
      "/data_0/table\n",
      "{'a_bool': True, 'a_np_bool': True, 'a_float': 0.0, 'a_np_float': 0.0, 'a_np_int': 0, 'a_int': 0}\n",
      "{'a_bool': False, 'a_np_bool': False, 'a_float': 1.0, 'a_np_float': 1.0, 'a_np_int': 1, 'a_int': 1}\n",
      "{'a_bool': True, 'a_np_bool': True, 'a_float': 2.0, 'a_np_float': 2.0, 'a_np_int': 2, 'a_int': 2}\n",
      "{'a_bool': False, 'a_np_bool': False, 'a_float': 3.0, 'a_np_float': 3.0, 'a_np_int': 3, 'a_int': 3}\n",
      "{'a_bool': True, 'a_np_bool': True, 'a_float': 4.0, 'a_np_float': 4.0, 'a_np_int': 4, 'a_int': 4}\n",
      "{'a_bool': False, 'a_np_bool': False, 'a_float': 5.0, 'a_np_float': 5.0, 'a_np_int': 5, 'a_int': 5}\n",
      "{'a_bool': True, 'a_np_bool': True, 'a_float': 6.0, 'a_np_float': 6.0, 'a_np_int': 6, 'a_int': 6}\n",
      "{'a_bool': False, 'a_np_bool': False, 'a_float': 7.0, 'a_np_float': 7.0, 'a_np_int': 7, 'a_int': 7}\n",
      "{'a_bool': True, 'a_np_bool': True, 'a_float': 8.0, 'a_np_float': 8.0, 'a_np_int': 8, 'a_int': 8}\n",
      "{'a_bool': False, 'a_np_bool': False, 'a_float': 9.0, 'a_np_float': 9.0, 'a_np_int': 9, 'a_int': 9}\n",
      "/data_1/table\n",
      "{'a_bool': True, 'a_np_bool': True, 'a_float': 0.0, 'a_np_float': 0.0, 'a_np_int': 0, 'a_int': 0}\n",
      "{'a_bool': False, 'a_np_bool': False, 'a_float': 1.0, 'a_np_float': 1.0, 'a_np_int': 1, 'a_int': 1}\n",
      "{'a_bool': True, 'a_np_bool': True, 'a_float': 2.0, 'a_np_float': 2.0, 'a_np_int': 2, 'a_int': 2}\n",
      "{'a_bool': False, 'a_np_bool': False, 'a_float': 3.0, 'a_np_float': 3.0, 'a_np_int': 3, 'a_int': 3}\n",
      "{'a_bool': True, 'a_np_bool': True, 'a_float': 4.0, 'a_np_float': 4.0, 'a_np_int': 4, 'a_int': 4}\n",
      "{'a_bool': False, 'a_np_bool': False, 'a_float': 5.0, 'a_np_float': 5.0, 'a_np_int': 5, 'a_int': 5}\n",
      "{'a_bool': True, 'a_np_bool': True, 'a_float': 6.0, 'a_np_float': 6.0, 'a_np_int': 6, 'a_int': 6}\n",
      "{'a_bool': False, 'a_np_bool': False, 'a_float': 7.0, 'a_np_float': 7.0, 'a_np_int': 7, 'a_int': 7}\n",
      "{'a_bool': True, 'a_np_bool': True, 'a_float': 8.0, 'a_np_float': 8.0, 'a_np_int': 8, 'a_int': 8}\n",
      "{'a_bool': False, 'a_np_bool': False, 'a_float': 9.0, 'a_np_float': 9.0, 'a_np_int': 9, 'a_int': 9}\n",
      "reading mode a\n",
      "/data_0/table\n",
      "{'a_bool': True, 'a_np_bool': True, 'a_float': 0.0, 'a_np_float': 0.0, 'a_np_int': 0, 'a_int': 0}\n",
      "{'a_bool': False, 'a_np_bool': False, 'a_float': 1.0, 'a_np_float': 1.0, 'a_np_int': 1, 'a_int': 1}\n",
      "{'a_bool': True, 'a_np_bool': True, 'a_float': 2.0, 'a_np_float': 2.0, 'a_np_int': 2, 'a_int': 2}\n",
      "{'a_bool': False, 'a_np_bool': False, 'a_float': 3.0, 'a_np_float': 3.0, 'a_np_int': 3, 'a_int': 3}\n",
      "{'a_bool': True, 'a_np_bool': True, 'a_float': 4.0, 'a_np_float': 4.0, 'a_np_int': 4, 'a_int': 4}\n",
      "{'a_bool': False, 'a_np_bool': False, 'a_float': 5.0, 'a_np_float': 5.0, 'a_np_int': 5, 'a_int': 5}\n",
      "{'a_bool': True, 'a_np_bool': True, 'a_float': 6.0, 'a_np_float': 6.0, 'a_np_int': 6, 'a_int': 6}\n",
      "{'a_bool': False, 'a_np_bool': False, 'a_float': 7.0, 'a_np_float': 7.0, 'a_np_int': 7, 'a_int': 7}\n",
      "{'a_bool': True, 'a_np_bool': True, 'a_float': 8.0, 'a_np_float': 8.0, 'a_np_int': 8, 'a_int': 8}\n",
      "{'a_bool': False, 'a_np_bool': False, 'a_float': 9.0, 'a_np_float': 9.0, 'a_np_int': 9, 'a_int': 9}\n",
      "/data_1/table\n",
      "{'a_bool': True, 'a_np_bool': True, 'a_float': 0.0, 'a_np_float': 0.0, 'a_np_int': 0, 'a_int': 0}\n",
      "{'a_bool': False, 'a_np_bool': False, 'a_float': 1.0, 'a_np_float': 1.0, 'a_np_int': 1, 'a_int': 1}\n",
      "{'a_bool': True, 'a_np_bool': True, 'a_float': 2.0, 'a_np_float': 2.0, 'a_np_int': 2, 'a_int': 2}\n",
      "{'a_bool': False, 'a_np_bool': False, 'a_float': 3.0, 'a_np_float': 3.0, 'a_np_int': 3, 'a_int': 3}\n",
      "{'a_bool': True, 'a_np_bool': True, 'a_float': 4.0, 'a_np_float': 4.0, 'a_np_int': 4, 'a_int': 4}\n",
      "{'a_bool': False, 'a_np_bool': False, 'a_float': 5.0, 'a_np_float': 5.0, 'a_np_int': 5, 'a_int': 5}\n",
      "{'a_bool': True, 'a_np_bool': True, 'a_float': 6.0, 'a_np_float': 6.0, 'a_np_int': 6, 'a_int': 6}\n",
      "{'a_bool': False, 'a_np_bool': False, 'a_float': 7.0, 'a_np_float': 7.0, 'a_np_int': 7, 'a_int': 7}\n",
      "{'a_bool': True, 'a_np_bool': True, 'a_float': 8.0, 'a_np_float': 8.0, 'a_np_int': 8, 'a_int': 8}\n",
      "{'a_bool': False, 'a_np_bool': False, 'a_float': 9.0, 'a_np_float': 9.0, 'a_np_int': 9, 'a_int': 9}\n",
      "reading mode w\n"
     ]
    },
    {
     "ename": "OSError",
     "evalue": "File container.h5 cannot be read in write mode \"w\"",
     "output_type": "error",
     "traceback": [
      "\u001b[0;31m---------------------------------------------------------------------------\u001b[0m",
      "\u001b[0;31mOSError\u001b[0m                                   Traceback (most recent call last)",
      "\u001b[0;32m<ipython-input-7-11c71c3f2efd>\u001b[0m in \u001b[0;36m<module>\u001b[0;34m()\u001b[0m\n\u001b[1;32m     19\u001b[0m \u001b[0mread\u001b[0m\u001b[0;34m(\u001b[0m\u001b[0;34m'r+'\u001b[0m\u001b[0;34m)\u001b[0m\u001b[0;34m\u001b[0m\u001b[0m\n\u001b[1;32m     20\u001b[0m \u001b[0mread\u001b[0m\u001b[0;34m(\u001b[0m\u001b[0;34m'a'\u001b[0m\u001b[0;34m)\u001b[0m\u001b[0;34m\u001b[0m\u001b[0m\n\u001b[0;32m---> 21\u001b[0;31m \u001b[0mread\u001b[0m\u001b[0;34m(\u001b[0m\u001b[0;34m'w'\u001b[0m\u001b[0;34m)\u001b[0m\u001b[0;34m\u001b[0m\u001b[0m\n\u001b[0m",
      "\u001b[0;32m<ipython-input-7-11c71c3f2efd>\u001b[0m in \u001b[0;36mread\u001b[0;34m(mode)\u001b[0m\n\u001b[1;32m      5\u001b[0m     \u001b[0mprint\u001b[0m\u001b[0;34m(\u001b[0m\u001b[0;34m'reading mode {}'\u001b[0m\u001b[0;34m.\u001b[0m\u001b[0mformat\u001b[0m\u001b[0;34m(\u001b[0m\u001b[0mmode\u001b[0m\u001b[0;34m)\u001b[0m\u001b[0;34m)\u001b[0m\u001b[0;34m\u001b[0m\u001b[0m\n\u001b[1;32m      6\u001b[0m \u001b[0;34m\u001b[0m\u001b[0m\n\u001b[0;32m----> 7\u001b[0;31m     \u001b[0;32mwith\u001b[0m \u001b[0mHDF5TableReader\u001b[0m\u001b[0;34m(\u001b[0m\u001b[0;34m'container.h5'\u001b[0m\u001b[0;34m,\u001b[0m \u001b[0mmode\u001b[0m\u001b[0;34m=\u001b[0m\u001b[0mmode\u001b[0m\u001b[0;34m)\u001b[0m \u001b[0;32mas\u001b[0m \u001b[0mh5_table\u001b[0m\u001b[0;34m:\u001b[0m\u001b[0;34m\u001b[0m\u001b[0m\n\u001b[0m\u001b[1;32m      8\u001b[0m \u001b[0;34m\u001b[0m\u001b[0m\n\u001b[1;32m      9\u001b[0m         \u001b[0;32mfor\u001b[0m \u001b[0mgroup_name\u001b[0m \u001b[0;32min\u001b[0m \u001b[0;34m[\u001b[0m\u001b[0;34m'data_0/'\u001b[0m\u001b[0;34m,\u001b[0m \u001b[0;34m'data_1/'\u001b[0m\u001b[0;34m]\u001b[0m\u001b[0;34m:\u001b[0m\u001b[0;34m\u001b[0m\u001b[0m\n",
      "\u001b[0;32m/home/alispach/Documents/PhD/ctasoft/ctapipe/ctapipe/io/hdf5tableio.py\u001b[0m in \u001b[0;36m__init__\u001b[0;34m(self, filename, mode)\u001b[0m\n\u001b[1;32m    262\u001b[0m         \u001b[0;32mif\u001b[0m \u001b[0mmode\u001b[0m \u001b[0;32mnot\u001b[0m \u001b[0;32min\u001b[0m \u001b[0;34m[\u001b[0m\u001b[0;34m'r'\u001b[0m\u001b[0;34m,\u001b[0m \u001b[0;34m'r+'\u001b[0m\u001b[0;34m,\u001b[0m \u001b[0;34m'a'\u001b[0m\u001b[0;34m]\u001b[0m\u001b[0;34m:\u001b[0m\u001b[0;34m\u001b[0m\u001b[0m\n\u001b[1;32m    263\u001b[0m \u001b[0;34m\u001b[0m\u001b[0m\n\u001b[0;32m--> 264\u001b[0;31m             raise IOError('File {} cannot be opened in mode \"w\"'.\n\u001b[0m\u001b[1;32m    265\u001b[0m                           format(filename)) \n\u001b[1;32m    266\u001b[0m \u001b[0;34m\u001b[0m\u001b[0m\n",
      "\u001b[0;31mOSError\u001b[0m: File container.h5 cannot be read in write mode \"w\""
     ]
    }
   ],
   "source": [
    "from ctapipe.io import HDF5TableReader\n",
    "\n",
    "def read(mode):\n",
    "    \n",
    "    print('reading mode {}'.format(mode))\n",
    "\n",
    "    with HDF5TableReader('container.h5', mode=mode) as h5_table:\n",
    "\n",
    "        for group_name in ['data_0/', 'data_1/']:\n",
    "\n",
    "            group_name = '/{}table'.format(group_name)\n",
    "            print(group_name)\n",
    "\n",
    "            for data in h5_table.read(group_name, VariousTypesContainer()):\n",
    "\n",
    "                print(data.as_dict())\n",
    "                \n",
    "read('r')\n",
    "read('r+')\n",
    "read('a')\n",
    "read('w')"
   ]
  },
  {
   "cell_type": "markdown",
   "metadata": {
    "collapsed": true
   },
   "source": []
  }
 ],
 "metadata": {
  "kernelspec": {
   "display_name": "Python 3",
   "language": "python",
   "name": "python3"
  },
  "language_info": {
   "codemirror_mode": {
    "name": "ipython",
    "version": 3
   },
   "file_extension": ".py",
   "mimetype": "text/x-python",
   "name": "python",
   "nbconvert_exporter": "python",
   "pygments_lexer": "ipython3",
   "version": "3.5.1"
  }
 },
 "nbformat": 4,
 "nbformat_minor": 1
}
